{
 "cells": [
  {
   "cell_type": "markdown",
   "id": "264ec7e6-e6c7-4273-9156-a373f9c75ad0",
   "metadata": {
    "tags": []
   },
   "source": [
    "# Data Prep notebook for LogoDetection-3K using Rikai\n",
    "Paper: https://arxiv.org/pdf/2008.05359.pdf <br/>\n",
    "Data: https://github.com/Wangjing1551/LogoDet-3K-Dataset"
   ]
  },
  {
   "cell_type": "markdown",
   "id": "35d4dee6-4697-475c-8503-46a2926ea3ac",
   "metadata": {},
   "source": [
    "## Load data"
   ]
  },
  {
   "cell_type": "code",
   "execution_count": null,
   "id": "83c9f931-74f8-435a-a543-e1af87d5fd1f",
   "metadata": {},
   "outputs": [],
   "source": [
    "!curl https://eto-public.s3.us-west-2.amazonaws.com/LogoDet-3K.zip --output LogoDet-3K.zip"
   ]
  },
  {
   "cell_type": "code",
   "execution_count": null,
   "id": "c377524c-85c0-4e92-a449-36d154e2ef1b",
   "metadata": {
    "scrolled": true,
    "tags": []
   },
   "outputs": [],
   "source": [
    "!unzip -qo LogoDet-3K.zip\n",
    "!mv LogoDet-3K data"
   ]
  },
  {
   "cell_type": "code",
   "execution_count": null,
   "id": "92a4b98a-0e2c-4081-8658-c2ffdd11621d",
   "metadata": {},
   "outputs": [],
   "source": [
    "# Check that the directory looks good and total size is about 4GB\n",
    "!ls data\n",
    "!du -csh data"
   ]
  },
  {
   "cell_type": "code",
   "execution_count": null,
   "id": "8ffafc9e-e0c9-42a3-8d57-66dd3e1d369b",
   "metadata": {},
   "outputs": [],
   "source": [
    "!ls data/Clothes/Gap/"
   ]
  },
  {
   "cell_type": "code",
   "execution_count": null,
   "id": "ce938465-8a6d-4614-acd9-88b846b9ef7a",
   "metadata": {},
   "outputs": [],
   "source": [
    "!cat data/Clothes/Gap/1.xml"
   ]
  },
  {
   "cell_type": "code",
   "execution_count": null,
   "id": "b96fc964-6d92-4c0d-836c-1b7a343a16b0",
   "metadata": {},
   "outputs": [],
   "source": [
    "from IPython.display import Image as IPyImage\n",
    "IPyImage(filename='data/Clothes/Gap/1.jpg') "
   ]
  },
  {
   "cell_type": "code",
   "execution_count": null,
   "id": "c91f48ca-e6fd-4902-8b16-b8e66af765c9",
   "metadata": {},
   "outputs": [],
   "source": [
    "# Verify that we only have jpg and xml files\n",
    "from pathlib import Path\n",
    "data = Path('data')\n",
    "ext = set()\n",
    "for cat_dir in data.iterdir():\n",
    "    category = cat_dir.name\n",
    "    for brand_dir in cat_dir.iterdir():\n",
    "        brand = brand_dir.name\n",
    "        for f in brand_dir.iterdir():\n",
    "            ext.add(f.suffix)\n",
    "ext       "
   ]
  },
  {
   "cell_type": "markdown",
   "id": "2977a9c8-040b-4428-be58-e2cfe7d845af",
   "metadata": {},
   "source": [
    "## Create Rikai dataset"
   ]
  },
  {
   "cell_type": "code",
   "execution_count": null,
   "id": "04ea00a7-84a7-40ab-b738-d40fa521c588",
   "metadata": {},
   "outputs": [],
   "source": [
    "!pip install xmltodict"
   ]
  },
  {
   "cell_type": "code",
   "execution_count": null,
   "id": "4c10aabf-d844-4f5e-b749-b5b2667a6199",
   "metadata": {},
   "outputs": [],
   "source": [
    "from pathlib import Path\n",
    "import xmltodict\n",
    "from rikai.types import Image, Box2d\n",
    "\n",
    "data = Path('data')\n",
    "\n",
    "def process_dataset(data_dir):\n",
    "    id_map = {}\n",
    "    rows = []\n",
    "    for cat_dir in sorted(data_dir.iterdir()):\n",
    "        category = cat_dir.name\n",
    "        for brand_dir in sorted(cat_dir.iterdir()):\n",
    "            brand = brand_dir.name\n",
    "            for img_file in sorted(brand_dir.glob('*.jpg')):\n",
    "                ann_file = img_file.parent / f\"{img_file.stem}.xml\"\n",
    "                link = f'./{category}/{brand}/{img_file.stem}.{img_file.suffix}'\n",
    "                row_dd = {'category': category, 'brand': brand, 'link': link, 'image': Image(img_file).to_embedded()}\n",
    "                if ann_file.exists():\n",
    "                    with open(ann_file) as xf:\n",
    "                        ann_dd = xmltodict.parse(xf.read())\n",
    "                        row_dd.update(process_ann(ann_dd['annotation'], id_map))\n",
    "                rows.append(row_dd)\n",
    "    return rows, id_map"
   ]
  },
  {
   "cell_type": "code",
   "execution_count": null,
   "id": "5c2d63fb-d626-41b3-b1bd-e1fd120965a3",
   "metadata": {},
   "outputs": [],
   "source": [
    "def process_ann(annotations, id_map):\n",
    "    objects = annotations['object']\n",
    "    if isinstance(objects, dict):\n",
    "        objects = [objects]\n",
    "    def label_id(obj):\n",
    "        if obj['name'] not in id_map:\n",
    "            id_map[obj['name']] = 0 if not id_map else max(id_map.values()) + 1\n",
    "        return id_map[obj['name']]\n",
    "    return {\n",
    "        'verified': annotations.get('@verified') == 'yes',\n",
    "        'folder': annotations['folder'],\n",
    "        'width': int(annotations['size']['width']),\n",
    "        'height': int(annotations['size']['height']),\n",
    "        'depth': int(annotations['size']['depth']),\n",
    "        'segmented': annotations['segmented'] == '0',\n",
    "        'annotations': [{\n",
    "            'truncated': obj['truncated'] == '0',\n",
    "            'bbox': Box2d(**{k: float(v) for k, v in obj['bndbox'].items()}),\n",
    "            'label_id': label_id(obj),\n",
    "            'label': obj['name']\n",
    "        } for obj in objects]\n",
    "    }"
   ]
  },
  {
   "cell_type": "code",
   "execution_count": null,
   "id": "ec0f8e20-ae79-4ed1-9008-15a9df870fc9",
   "metadata": {},
   "outputs": [],
   "source": [
    "import pandas as pd\n",
    "\n",
    "rows, id_map = process_dataset(data)\n",
    "pdf = pd.DataFrame(rows)"
   ]
  },
  {
   "cell_type": "code",
   "execution_count": null,
   "id": "eaa1ebf3-bb08-4322-8b00-c32f8ca92f38",
   "metadata": {
    "scrolled": true,
    "tags": []
   },
   "outputs": [],
   "source": [
    "from pyspark.sql import SparkSession\n",
    "from pyspark.sql.types import *\n",
    "import pyspark.sql.functions as F\n",
    "from rikai.spark.utils import get_default_jar_version\n",
    "from rikai.spark.types import *\n",
    "\n",
    "version = get_default_jar_version(use_snapshot=True)\n",
    "spark = (\n",
    "    SparkSession\n",
    "    .builder\n",
    "    .appName('rikai-quickstart')\n",
    "    .config('spark.jars.packages', \n",
    "            \"ai.eto:rikai_2.12:{}\".format(version))\n",
    "    .master('local[*]')\n",
    "    .getOrCreate()\n",
    ")"
   ]
  },
  {
   "cell_type": "code",
   "execution_count": null,
   "id": "18b9f588-15a9-47b6-aec9-cf35e66cc216",
   "metadata": {},
   "outputs": [],
   "source": [
    "schema = StructType([\n",
    "    StructField('category', StringType(), False),\n",
    "    StructField('brand', StringType(), False),\n",
    "    StructField('link', StringType(), False),\n",
    "    StructField('image', ImageType(), False),\n",
    "    StructField('verified', BooleanType(), True),\n",
    "    StructField('folder', StringType(), True),\n",
    "    StructField('width', IntegerType(), True),\n",
    "    StructField('height', IntegerType(), True),\n",
    "    StructField('depth', IntegerType(), True),\n",
    "    StructField('segmented', BooleanType(), True),\n",
    "    StructField('annotations', ArrayType(\n",
    "        StructType([\n",
    "            StructField('truncated', BooleanType(), True),\n",
    "            StructField('bbox', Box2dType(), False),\n",
    "            StructField('label_id', IntegerType(), False),\n",
    "            StructField('label', StringType(), False)\n",
    "        ])\n",
    "    ), True)\n",
    "])\n",
    "         \n",
    "    \n",
    "df = spark.createDataFrame(pdf, schema)\n",
    "df.printSchema()\n",
    "df.show()"
   ]
  },
  {
   "cell_type": "code",
   "execution_count": null,
   "id": "06ed0204-d988-47c6-b73d-9f5cc53fc40c",
   "metadata": {},
   "outputs": [],
   "source": [
    "!mkdir -p ./rikai\n",
    "df.repartition(20).write.format('rikai').mode('overwrite').save('./rikai/logo3k')"
   ]
  },
  {
   "cell_type": "code",
   "execution_count": null,
   "id": "18c61410-08e1-4940-9d32-b2136d3eca1e",
   "metadata": {},
   "outputs": [],
   "source": [
    "import json\n",
    "with open('./rikai/logo_ids.json', 'w') as fh:\n",
    "    json.dump(id_map, fh)"
   ]
  },
  {
   "cell_type": "code",
   "execution_count": null,
   "id": "0d4ab97b-4f64-44ba-a7bb-941698e574bc",
   "metadata": {},
   "outputs": [],
   "source": []
  }
 ],
 "metadata": {
  "kernelspec": {
   "display_name": "Python 3 (ipykernel)",
   "language": "python",
   "name": "python3"
  },
  "language_info": {
   "codemirror_mode": {
    "name": "ipython",
    "version": 3
   },
   "file_extension": ".py",
   "mimetype": "text/x-python",
   "name": "python",
   "nbconvert_exporter": "python",
   "pygments_lexer": "ipython3",
   "version": "3.9.7"
  }
 },
 "nbformat": 4,
 "nbformat_minor": 5
}
